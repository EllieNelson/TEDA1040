{
 "cells": [
  {
   "cell_type": "markdown",
   "metadata": {},
   "source": [
    "# Module 3 Project"
   ]
  },
  {
   "cell_type": "code",
   "execution_count": 1,
   "metadata": {},
   "outputs": [],
   "source": [
    "from bs4 import BeautifulSoup\n",
    "import pandas as pd\n",
    "import requests"
   ]
  },
  {
   "cell_type": "code",
   "execution_count": 29,
   "metadata": {},
   "outputs": [],
   "source": [
    "response = requests.get('https://btech-data-analytics.github.io/bridgerland-technical-college/bookstore.html').text"
   ]
  },
  {
   "cell_type": "code",
   "execution_count": 30,
   "metadata": {},
   "outputs": [],
   "source": [
    "soup = BeautifulSoup(response, 'html.parser')"
   ]
  },
  {
   "cell_type": "code",
   "execution_count": 31,
   "metadata": {},
   "outputs": [
    {
     "data": {
      "text/plain": [
       "[<div class=\"w3-bar w3-blue-grey w3-large\" style=\"padding: 0rem 8rem 0rem 8rem\">\n",
       " <a href=\"/bridgerland-technical-college/home.html\"><img class=\"\" src=\"bobs_bookstore_white.png\" style=\"max-height: 2.8rem;\"/></a>\n",
       " <a class=\"w3-bar-item w3-button w3-right\" href=\"/bridgerland-technical-college/bookstore.html\">Store</a>\n",
       " <a class=\"w3-bar-item w3-button w3-right\" href=\"/bridgerland-technical-college/contact.html\">Contact</a>\n",
       " <a class=\"w3-bar-item w3-button w3-right\" href=\"/bridgerland-technical-college/about.html\">About</a>\n",
       " </div>,\n",
       " <div class=\"w3-container\" style=\"max-width: 1000px;margin: auto;\">\n",
       " <h1>Books for Sale</h1>\n",
       " <table class=\"w3-table-all w3-hoverable w3-small\">\n",
       " <thead>\n",
       " <tr>\n",
       " <th>ISBN</th>\n",
       " <th>Title</th>\n",
       " <th>Author</th>\n",
       " <th>Language</th>\n",
       " <th>Pages</th>\n",
       " <th>Topic</th>\n",
       " <th>Price</th>\n",
       " <th></th>\n",
       " </tr>\n",
       " </thead>\n",
       " <tr class=\"book\">\n",
       " <td>978-1234567890</td>\n",
       " <td>Whiskers of Wisdom: Tales from Feline Philosophers</td>\n",
       " <td>Penelope Wainwright</td>\n",
       " <td>English</td>\n",
       " <td>256</td>\n",
       " <td>Cats</td>\n",
       " <td>$19.99</td>\n",
       " <td><button>Buy now</button></td>\n",
       " </tr>\n",
       " <tr class=\"book\">\n",
       " <td>978-2345678901</td>\n",
       " <td>Purrfectly Pawesome: A Cat's Life</td>\n",
       " <td>Jasper Sterling</td>\n",
       " <td>English</td>\n",
       " <td>192</td>\n",
       " <td>Cats</td>\n",
       " <td>$15.99</td>\n",
       " <td><button>Buy now</button></td>\n",
       " </tr>\n",
       " <tr class=\"book\">\n",
       " <td>978-3456789012</td>\n",
       " <td>Cat Tales: Adventures in Whiskerland</td>\n",
       " <td>Penelope Wainwright</td>\n",
       " <td>English</td>\n",
       " <td>320</td>\n",
       " <td>Cats</td>\n",
       " <td>$21.99</td>\n",
       " <td><button>Buy now</button></td>\n",
       " </tr>\n",
       " <tr class=\"book\">\n",
       " <td>978-4567890123</td>\n",
       " <td>The Enigmatic Paws: Mysteries of Meowville</td>\n",
       " <td>Maximilian Thorne</td>\n",
       " <td>English</td>\n",
       " <td>288</td>\n",
       " <td>Cats</td>\n",
       " <td>$17.99</td>\n",
       " <td><button>Buy now</button></td>\n",
       " </tr>\n",
       " <tr class=\"book\">\n",
       " <td>978-5678901234</td>\n",
       " <td>Cats in Wonderland</td>\n",
       " <td>Isadora Harrington</td>\n",
       " <td>English</td>\n",
       " <td>224</td>\n",
       " <td>Cats</td>\n",
       " <td>$16.99</td>\n",
       " <td><button>Buy now</button></td>\n",
       " </tr>\n",
       " <tr class=\"book\">\n",
       " <td>978-6789012345</td>\n",
       " <td>Whisker Wisdom: Life Lessons from Feline Sages</td>\n",
       " <td>Penelope Wainwright</td>\n",
       " <td>English</td>\n",
       " <td>288</td>\n",
       " <td>Cats</td>\n",
       " <td>$20.99</td>\n",
       " <td><button>Buy now</button></td>\n",
       " </tr>\n",
       " <tr class=\"book\">\n",
       " <td>978-7890123456</td>\n",
       " <td>Catnip Chronicles: A Purrfect Journey</td>\n",
       " <td>Jasper Sterling</td>\n",
       " <td>English</td>\n",
       " <td>192</td>\n",
       " <td>Cats</td>\n",
       " <td>$14.99</td>\n",
       " <td><button>Buy now</button></td>\n",
       " </tr>\n",
       " <tr class=\"book\">\n",
       " <td>978-8901234567</td>\n",
       " <td>Cat-astrophe: Tales of Misadventures</td>\n",
       " <td>Celeste Nightshade</td>\n",
       " <td>English</td>\n",
       " <td>240</td>\n",
       " <td>Cats</td>\n",
       " <td>$18.99</td>\n",
       " <td><button>Buy now</button></td>\n",
       " </tr>\n",
       " <tr class=\"book\">\n",
       " <td>978-9012345678</td>\n",
       " <td>The Cat's Whisker: A Feline Fantasy</td>\n",
       " <td>Penelope Wainwright</td>\n",
       " <td>English</td>\n",
       " <td>208</td>\n",
       " <td>Cats</td>\n",
       " <td>$16.99</td>\n",
       " <td><button>Buy now</button></td>\n",
       " </tr>\n",
       " <tr class=\"book\">\n",
       " <td>978-0123456789</td>\n",
       " <td>Fur and Friendship: Stories of Feline Companions</td>\n",
       " <td>Seraphina Montague</td>\n",
       " <td>English</td>\n",
       " <td>176</td>\n",
       " <td>Cats</td>\n",
       " <td>$12.99</td>\n",
       " <td><button>Buy now</button></td>\n",
       " </tr>\n",
       " <tr class=\"book\">\n",
       " <td>978-1234567890</td>\n",
       " <td>Tails of Loyalty: Canine Chronicles</td>\n",
       " <td>Benjamin Barkley</td>\n",
       " <td>English</td>\n",
       " <td>256</td>\n",
       " <td>Dogs</td>\n",
       " <td>$29.99</td>\n",
       " <td><button>Buy now</button></td>\n",
       " </tr>\n",
       " <tr class=\"book\">\n",
       " <td>978-2345678901</td>\n",
       " <td>Pawsitive Adventures: A Dog's Journey</td>\n",
       " <td>Sophie Shepherd</td>\n",
       " <td>English</td>\n",
       " <td>192</td>\n",
       " <td>Dogs</td>\n",
       " <td>$25.99</td>\n",
       " <td><button>Buy now</button></td>\n",
       " </tr>\n",
       " <tr class=\"book\">\n",
       " <td>978-3456789012</td>\n",
       " <td>Barking Wisdom: Lessons from Wise Canines</td>\n",
       " <td>Oliver Obedience</td>\n",
       " <td>English</td>\n",
       " <td>320</td>\n",
       " <td>Dogs</td>\n",
       " <td>$21.99</td>\n",
       " <td><button>Buy now</button></td>\n",
       " </tr>\n",
       " <tr class=\"book\">\n",
       " <td>978-4567890123</td>\n",
       " <td>Dogged Determination: Stories of Resilient Pooches</td>\n",
       " <td>Ruby Ruffington</td>\n",
       " <td>English</td>\n",
       " <td>288</td>\n",
       " <td>Dogs</td>\n",
       " <td>$27.99</td>\n",
       " <td><button>Buy now</button></td>\n",
       " </tr>\n",
       " <tr class=\"book\">\n",
       " <td>978-5678901234</td>\n",
       " <td>The Bark Brigade: Canine Heroes Among Us</td>\n",
       " <td>Benjamin Barkley</td>\n",
       " <td>English</td>\n",
       " <td>224</td>\n",
       " <td>Dogs</td>\n",
       " <td>$26.99</td>\n",
       " <td><button>Buy now</button></td>\n",
       " </tr>\n",
       " </table>\n",
       " </div>,\n",
       " <div class=\"footer-content\">\n",
       " <p>© 2023 Bob's Bookstore</p>\n",
       " <ul class=\"social-icons\">\n",
       " <li><a href=\"#\"><img alt=\"Facebook\" src=\"facebook.png\"/></a></li>\n",
       " <li><a href=\"#\"><img alt=\"Twitter\" src=\"twitter.png\"/></a></li>\n",
       " <li><a href=\"#\"><img alt=\"Instagram\" src=\"instagram.png\"/></a></li>\n",
       " </ul>\n",
       " </div>]"
      ]
     },
     "execution_count": 31,
     "metadata": {},
     "output_type": "execute_result"
    }
   ],
   "source": [
    "soup.find_all('div')"
   ]
  },
  {
   "cell_type": "code",
   "execution_count": 32,
   "metadata": {},
   "outputs": [
    {
     "data": {
      "text/plain": [
       "[<tr class=\"book\">\n",
       " <td>978-1234567890</td>\n",
       " <td>Whiskers of Wisdom: Tales from Feline Philosophers</td>\n",
       " <td>Penelope Wainwright</td>\n",
       " <td>English</td>\n",
       " <td>256</td>\n",
       " <td>Cats</td>\n",
       " <td>$19.99</td>\n",
       " <td><button>Buy now</button></td>\n",
       " </tr>,\n",
       " <tr class=\"book\">\n",
       " <td>978-2345678901</td>\n",
       " <td>Purrfectly Pawesome: A Cat's Life</td>\n",
       " <td>Jasper Sterling</td>\n",
       " <td>English</td>\n",
       " <td>192</td>\n",
       " <td>Cats</td>\n",
       " <td>$15.99</td>\n",
       " <td><button>Buy now</button></td>\n",
       " </tr>,\n",
       " <tr class=\"book\">\n",
       " <td>978-3456789012</td>\n",
       " <td>Cat Tales: Adventures in Whiskerland</td>\n",
       " <td>Penelope Wainwright</td>\n",
       " <td>English</td>\n",
       " <td>320</td>\n",
       " <td>Cats</td>\n",
       " <td>$21.99</td>\n",
       " <td><button>Buy now</button></td>\n",
       " </tr>,\n",
       " <tr class=\"book\">\n",
       " <td>978-4567890123</td>\n",
       " <td>The Enigmatic Paws: Mysteries of Meowville</td>\n",
       " <td>Maximilian Thorne</td>\n",
       " <td>English</td>\n",
       " <td>288</td>\n",
       " <td>Cats</td>\n",
       " <td>$17.99</td>\n",
       " <td><button>Buy now</button></td>\n",
       " </tr>,\n",
       " <tr class=\"book\">\n",
       " <td>978-5678901234</td>\n",
       " <td>Cats in Wonderland</td>\n",
       " <td>Isadora Harrington</td>\n",
       " <td>English</td>\n",
       " <td>224</td>\n",
       " <td>Cats</td>\n",
       " <td>$16.99</td>\n",
       " <td><button>Buy now</button></td>\n",
       " </tr>,\n",
       " <tr class=\"book\">\n",
       " <td>978-6789012345</td>\n",
       " <td>Whisker Wisdom: Life Lessons from Feline Sages</td>\n",
       " <td>Penelope Wainwright</td>\n",
       " <td>English</td>\n",
       " <td>288</td>\n",
       " <td>Cats</td>\n",
       " <td>$20.99</td>\n",
       " <td><button>Buy now</button></td>\n",
       " </tr>,\n",
       " <tr class=\"book\">\n",
       " <td>978-7890123456</td>\n",
       " <td>Catnip Chronicles: A Purrfect Journey</td>\n",
       " <td>Jasper Sterling</td>\n",
       " <td>English</td>\n",
       " <td>192</td>\n",
       " <td>Cats</td>\n",
       " <td>$14.99</td>\n",
       " <td><button>Buy now</button></td>\n",
       " </tr>,\n",
       " <tr class=\"book\">\n",
       " <td>978-8901234567</td>\n",
       " <td>Cat-astrophe: Tales of Misadventures</td>\n",
       " <td>Celeste Nightshade</td>\n",
       " <td>English</td>\n",
       " <td>240</td>\n",
       " <td>Cats</td>\n",
       " <td>$18.99</td>\n",
       " <td><button>Buy now</button></td>\n",
       " </tr>,\n",
       " <tr class=\"book\">\n",
       " <td>978-9012345678</td>\n",
       " <td>The Cat's Whisker: A Feline Fantasy</td>\n",
       " <td>Penelope Wainwright</td>\n",
       " <td>English</td>\n",
       " <td>208</td>\n",
       " <td>Cats</td>\n",
       " <td>$16.99</td>\n",
       " <td><button>Buy now</button></td>\n",
       " </tr>,\n",
       " <tr class=\"book\">\n",
       " <td>978-0123456789</td>\n",
       " <td>Fur and Friendship: Stories of Feline Companions</td>\n",
       " <td>Seraphina Montague</td>\n",
       " <td>English</td>\n",
       " <td>176</td>\n",
       " <td>Cats</td>\n",
       " <td>$12.99</td>\n",
       " <td><button>Buy now</button></td>\n",
       " </tr>,\n",
       " <tr class=\"book\">\n",
       " <td>978-1234567890</td>\n",
       " <td>Tails of Loyalty: Canine Chronicles</td>\n",
       " <td>Benjamin Barkley</td>\n",
       " <td>English</td>\n",
       " <td>256</td>\n",
       " <td>Dogs</td>\n",
       " <td>$29.99</td>\n",
       " <td><button>Buy now</button></td>\n",
       " </tr>,\n",
       " <tr class=\"book\">\n",
       " <td>978-2345678901</td>\n",
       " <td>Pawsitive Adventures: A Dog's Journey</td>\n",
       " <td>Sophie Shepherd</td>\n",
       " <td>English</td>\n",
       " <td>192</td>\n",
       " <td>Dogs</td>\n",
       " <td>$25.99</td>\n",
       " <td><button>Buy now</button></td>\n",
       " </tr>,\n",
       " <tr class=\"book\">\n",
       " <td>978-3456789012</td>\n",
       " <td>Barking Wisdom: Lessons from Wise Canines</td>\n",
       " <td>Oliver Obedience</td>\n",
       " <td>English</td>\n",
       " <td>320</td>\n",
       " <td>Dogs</td>\n",
       " <td>$21.99</td>\n",
       " <td><button>Buy now</button></td>\n",
       " </tr>,\n",
       " <tr class=\"book\">\n",
       " <td>978-4567890123</td>\n",
       " <td>Dogged Determination: Stories of Resilient Pooches</td>\n",
       " <td>Ruby Ruffington</td>\n",
       " <td>English</td>\n",
       " <td>288</td>\n",
       " <td>Dogs</td>\n",
       " <td>$27.99</td>\n",
       " <td><button>Buy now</button></td>\n",
       " </tr>,\n",
       " <tr class=\"book\">\n",
       " <td>978-5678901234</td>\n",
       " <td>The Bark Brigade: Canine Heroes Among Us</td>\n",
       " <td>Benjamin Barkley</td>\n",
       " <td>English</td>\n",
       " <td>224</td>\n",
       " <td>Dogs</td>\n",
       " <td>$26.99</td>\n",
       " <td><button>Buy now</button></td>\n",
       " </tr>]"
      ]
     },
     "execution_count": 32,
     "metadata": {},
     "output_type": "execute_result"
    }
   ],
   "source": [
    "soup.find_all('tr', class_='book')"
   ]
  },
  {
   "cell_type": "code",
   "execution_count": 33,
   "metadata": {},
   "outputs": [],
   "source": [
    "isbn = []\n",
    "title = []\n",
    "author = []\n",
    "language = []\n",
    "pages = []\n",
    "topic = []\n",
    "price = []\n",
    "\n",
    "for book in soup.find_all('tr', class_='book'):\n",
    "    isbn.append(book.find_all('td')[0].text)\n",
    "    title.append(book.find_all('td')[1].text)\n",
    "    author.append(book.find_all('td')[2].text)\n",
    "    language.append(book.find_all('td')[3].text)\n",
    "    pages.append(book.find_all('td')[4].text)\n",
    "    topic.append(book.find_all('td')[5].text)\n",
    "    price.append(book.find_all('td')[6].text)\n"
   ]
  },
  {
   "cell_type": "code",
   "execution_count": 35,
   "metadata": {},
   "outputs": [],
   "source": [
    "df = pd.DataFrame({\n",
    "    'isbn': isbn,\n",
    "    'title': title,\n",
    "    'author': author,\n",
    "    'language': language,\n",
    "    'pages': pages,\n",
    "    'topic': topic,\n",
    "    'price': price,\n",
    "})"
   ]
  },
  {
   "cell_type": "code",
   "execution_count": 43,
   "metadata": {},
   "outputs": [
    {
     "name": "stdout",
     "output_type": "stream",
     "text": [
      "<class 'pandas.core.frame.DataFrame'>\n",
      "RangeIndex: 15 entries, 0 to 14\n",
      "Data columns (total 7 columns):\n",
      " #   Column    Non-Null Count  Dtype  \n",
      "---  ------    --------------  -----  \n",
      " 0   isbn      15 non-null     object \n",
      " 1   title     15 non-null     object \n",
      " 2   author    15 non-null     object \n",
      " 3   language  15 non-null     object \n",
      " 4   pages     15 non-null     int64  \n",
      " 5   topic     15 non-null     object \n",
      " 6   price     15 non-null     float64\n",
      "dtypes: float64(1), int64(1), object(5)\n",
      "memory usage: 972.0+ bytes\n"
     ]
    }
   ],
   "source": [
    "df.info()"
   ]
  },
  {
   "cell_type": "code",
   "execution_count": 42,
   "metadata": {},
   "outputs": [],
   "source": [
    "\n",
    "df['price'] = df['price'].apply(lambda x: x.replace(\"$\", \"\"))\n",
    "df['price'] = df['price'].astype(str).astype(float)\n",
    "df['pages'] = df['pages'].astype(str).astype(int)"
   ]
  },
  {
   "cell_type": "markdown",
   "metadata": {},
   "source": [
    "### Question 1\n",
    "Which author has the most books listed at Bob's Bookstore? "
   ]
  },
  {
   "cell_type": "code",
   "execution_count": 44,
   "metadata": {},
   "outputs": [
    {
     "data": {
      "text/plain": [
       "author\n",
       "Penelope Wainwright    4\n",
       "Jasper Sterling        2\n",
       "Benjamin Barkley       2\n",
       "Maximilian Thorne      1\n",
       "Celeste Nightshade     1\n",
       "Isadora Harrington     1\n",
       "Seraphina Montague     1\n",
       "Sophie Shepherd        1\n",
       "Oliver Obedience       1\n",
       "Ruby Ruffington        1\n",
       "Name: count, dtype: int64"
      ]
     },
     "execution_count": 44,
     "metadata": {},
     "output_type": "execute_result"
    }
   ],
   "source": [
    "df['author'].value_counts()"
   ]
  },
  {
   "cell_type": "markdown",
   "metadata": {},
   "source": [
    "### Question 2\n",
    "Which is the most popular topic among books at Bob's Bookstore (which topic occurs most frequently)? "
   ]
  },
  {
   "cell_type": "code",
   "execution_count": 45,
   "metadata": {},
   "outputs": [
    {
     "data": {
      "text/plain": [
       "topic\n",
       "Cats    10\n",
       "Dogs     5\n",
       "Name: count, dtype: int64"
      ]
     },
     "execution_count": 45,
     "metadata": {},
     "output_type": "execute_result"
    }
   ],
   "source": [
    "df['topic'].value_counts()"
   ]
  },
  {
   "cell_type": "markdown",
   "metadata": {},
   "source": [
    "### Question 3 \n",
    "Which topic of books is the most expensive, on average? "
   ]
  },
  {
   "cell_type": "code",
   "execution_count": 47,
   "metadata": {},
   "outputs": [
    {
     "data": {
      "image/png": "[encoded data removed]",
      "text/plain": [
       "<Figure size 1200x600 with 1 Axes>"
      ]
     },
     "metadata": {},
     "output_type": "display_data"
    }
   ],
   "source": [
    "import pandas as pd\n",
    "import seaborn as sns\n",
    "import matplotlib.pyplot as plt\n",
    "\n",
    "# Calculate mean cost by topic\n",
    "topic_costs = df.groupby('topic')['price'].mean().sort_values(ascending=False)\n",
    "\n",
    "# Create the plot\n",
    "plt.figure(figsize=(12, 6))\n",
    "sns.barplot(x=topic_costs.index, y=topic_costs.values)\n",
    "\n",
    "# Add labels and title\n",
    "plt.title('Average Cost by Topic')\n",
    "plt.xlabel('Topic')\n",
    "plt.ylabel('Average Cost')\n",
    "\n",
    "# Format y-axis to show currency\n",
    "plt.gca().yaxis.set_major_formatter(plt.FuncFormatter(lambda x, p: f'${x:.2f}'))\n",
    "\n",
    "# Rotate x-axis labels for better readability\n",
    "plt.xticks(rotation=45, ha='right')\n",
    "\n",
    "# Add grid for better readability\n",
    "plt.grid(True, linestyle='--', alpha=0.3)\n",
    "\n",
    "# Adjust layout to prevent label cutoff\n",
    "plt.tight_layout()\n",
    "\n",
    "plt.show()"
   ]
  },
  {
   "cell_type": "markdown",
   "metadata": {},
   "source": [
    "### Question 4\n",
    "Which topic of book has the most pages, on average? "
   ]
  },
  {
   "cell_type": "code",
   "execution_count": null,
   "metadata": {},
   "outputs": [
    {
     "data": {
      "image/png": "[encoded data removed]",
      "text/plain": [
       "<Figure size 1200x600 with 1 Axes>"
      ]
     },
     "metadata": {},
     "output_type": "display_data"
    }
   ],
   "source": [
    "# Calculate mean cost by topic\n",
    "topic_pages = df.groupby('topic')['pages'].mean().sort_values(ascending=False)\n",
    "\n",
    "# Create the plot\n",
    "plt.figure(figsize=(12, 6))\n",
    "sns.barplot(x=topic_pages.index, y=topic_pages.values)\n",
    "\n",
    "# Add labels and title\n",
    "plt.title('Average Pages by Topic')\n",
    "plt.xlabel('Topic')\n",
    "plt.ylabel('Average Pages')\n",
    "\n",
    "# Rotate x-axis labels for better readability\n",
    "plt.xticks(rotation=45, ha='right')\n",
    "\n",
    "# Add grid for better readability\n",
    "plt.grid(True, linestyle='--', alpha=0.3)\n",
    "\n",
    "# Adjust layout to prevent label cutoff\n",
    "plt.tight_layout()\n",
    "\n",
    "plt.show()"
   ]
  }
 ],
 "metadata": {
  "kernelspec": {
   "display_name": "Python 3",
   "language": "python",
   "name": "python3"
  },
  "language_info": {
   "codemirror_mode": {
    "name": "ipython",
    "version": 3
   },
   "file_extension": ".py",
   "mimetype": "text/x-python",
   "name": "python",
   "nbconvert_exporter": "python",
   "pygments_lexer": "ipython3",
   "version": "3.13.1"
  }
 },
 "nbformat": 4,
 "nbformat_minor": 2
}
